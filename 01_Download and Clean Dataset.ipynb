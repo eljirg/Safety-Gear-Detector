{
 "cells": [
  {
   "cell_type": "code",
   "execution_count": null,
   "metadata": {},
   "outputs": [],
   "source": [
    "from IPython.core.display import display, HTML\n",
    "display(HTML(\"<style>.container { width:80% !important; }</style>\"))"
   ]
  },
  {
   "cell_type": "markdown",
   "metadata": {},
   "source": [
    "# Collect Dataset"
   ]
  },
  {
   "cell_type": "markdown",
   "metadata": {},
   "source": [
    "The goal of this project is to detect whether someone is properly wearing his safety gear, which can include hardhats, safety goggles, gloves, harness, boots, etc\n",
    "\n",
    "Parts of the codes are based on work from:\n",
    "- [kjaisingh](https://github.com/kjaisingh/hardhat-detector)\n",
    "- [pigeon](https://github.com/agermanidis/pigeon)"
   ]
  },
  {
   "cell_type": "markdown",
   "metadata": {},
   "source": [
    "# Import Libraries"
   ]
  },
  {
   "cell_type": "code",
   "execution_count": null,
   "metadata": {},
   "outputs": [],
   "source": [
    "import cv2\n",
    "from six.moves import urllib\n",
    "import numpy as np\n",
    "import os\n",
    "from tqdm import tqdm, tqdm_notebook"
   ]
  },
  {
   "cell_type": "markdown",
   "metadata": {},
   "source": [
    "Below are a function that can be used to collect a subset data from imagenet"
   ]
  },
  {
   "cell_type": "code",
   "execution_count": null,
   "metadata": {},
   "outputs": [],
   "source": [
    "def store_raw_images(class_name, link, numberofpic):\n",
    "    image_link = link\n",
    "    image_urls = urllib.request.urlopen(image_link).read().decode()\n",
    "\n",
    "    if not os.path.exists(f'./_dataset/{class_name}'):\n",
    "        os.makedirs(f'./_dataset/{class_name}')\n",
    "\n",
    "    pic_num = 1\n",
    "\n",
    "    while(pic_num < numberofpic):\n",
    "        pbar = tqdm_notebook(image_urls.split('\\n'))\n",
    "        for i in pbar:\n",
    "            try:\n",
    "                urllib.request.urlretrieve(i, f'./_dataset/{class_name}/{str(pic_num)}.jpg')\n",
    "                img = cv2.imread(f'./_dataset/{class_name}/{str(pic_num)}.jpg')\n",
    "                resized_image = cv2.resize(img, (300, 300))\n",
    "                cv2.imwrite(f'./_dataset/{class_name}/{str(pic_num)}.jpg', resized_image)\n",
    "                pic_num += 1\n",
    "\n",
    "            except Exception as e:\n",
    "                # print(str(e))\n",
    "                pass"
   ]
  },
  {
   "cell_type": "markdown",
   "metadata": {},
   "source": [
    "# Download Images"
   ]
  },
  {
   "cell_type": "code",
   "execution_count": null,
   "metadata": {},
   "outputs": [],
   "source": [
    "dicts = {'on_hardhat': 'http://www.image-net.org/api/text/imagenet.synset.geturls?wnid=n03492922',\n",
    "        'off_hardhat': 'http://image-net.org/api/text/imagenet.synset.geturls?wnid=n07942152'}\n",
    "\n",
    "amount2download_pos = 1500\n",
    "amount2download_neg = 500"
   ]
  },
  {
   "cell_type": "code",
   "execution_count": null,
   "metadata": {},
   "outputs": [],
   "source": [
    "for key, value in dicts.items():\n",
    "    if 'on' in key:\n",
    "        store_raw_images(key, value, numberofpic=amount2download_pos)\n",
    "    elif 'off' in key:\n",
    "        store_raw_images(key, value, numberofpic=amount2download_neg)"
   ]
  },
  {
   "cell_type": "markdown",
   "metadata": {},
   "source": [
    "# Verifying Images"
   ]
  },
  {
   "cell_type": "code",
   "execution_count": null,
   "metadata": {},
   "outputs": [],
   "source": []
  }
 ],
 "metadata": {
  "kernelspec": {
   "display_name": "Python 3",
   "language": "python",
   "name": "python3"
  },
  "language_info": {
   "codemirror_mode": {
    "name": "ipython",
    "version": 3
   },
   "file_extension": ".py",
   "mimetype": "text/x-python",
   "name": "python",
   "nbconvert_exporter": "python",
   "pygments_lexer": "ipython3",
   "version": "3.7.1"
  }
 },
 "nbformat": 4,
 "nbformat_minor": 2
}
