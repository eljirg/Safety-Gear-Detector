{
  "nbformat": 4,
  "nbformat_minor": 0,
  "metadata": {
    "kernelspec": {
      "display_name": "Python 3",
      "language": "python",
      "name": "python3"
    },
    "language_info": {
      "codemirror_mode": {
        "name": "ipython",
        "version": 3
      },
      "file_extension": ".py",
      "mimetype": "text/x-python",
      "name": "python",
      "nbconvert_exporter": "python",
      "pygments_lexer": "ipython3",
      "version": "3.7.1"
    },
    "colab": {
      "name": "01_Download and Clean Dataset-checkpoint.ipynb",
      "version": "0.3.2",
      "provenance": [],
      "include_colab_link": true
    }
  },
  "cells": [
    {
      "cell_type": "markdown",
      "metadata": {
        "id": "view-in-github",
        "colab_type": "text"
      },
      "source": [
        "<a href=\"https://colab.research.google.com/github/eljirg/Safety-Gear-Detector/blob/master/.ipynb_checkpoints/01_Download%20and%20Clean%20Dataset-checkpoint_colabtrial.ipynb\" target=\"_parent\"><img src=\"https://colab.research.google.com/assets/colab-badge.svg\" alt=\"Open In Colab\"/></a>"
      ]
    },
    {
      "cell_type": "code",
      "metadata": {
        "id": "rmS2zfLEXFMt",
        "colab_type": "code",
        "colab": {}
      },
      "source": [
        "from IPython.core.display import display, HTML\n",
        "display(HTML(\"<style>.container { width:80% !important; }</style>\"))"
      ],
      "execution_count": 0,
      "outputs": []
    },
    {
      "cell_type": "markdown",
      "metadata": {
        "id": "52EZUi2UXFMy",
        "colab_type": "text"
      },
      "source": [
        "# Collect Dataset"
      ]
    },
    {
      "cell_type": "markdown",
      "metadata": {
        "id": "6nPhpQT0XFMz",
        "colab_type": "text"
      },
      "source": [
        "The goal of this project is to detect whether someone is properly wearing his safety gear, which can include hardhats, safety goggles, gloves, harness, boots, etc\n",
        "\n",
        "Parts of the codes are based on work from:\n",
        "- [kjaisingh](https://github.com/kjaisingh/hardhat-detector)\n",
        "- [pigeon](https://github.com/agermanidis/pigeon)"
      ]
    },
    {
      "cell_type": "markdown",
      "metadata": {
        "id": "QGhoLJIFXFM0",
        "colab_type": "text"
      },
      "source": [
        "# Import Libraries"
      ]
    },
    {
      "cell_type": "code",
      "metadata": {
        "id": "mVEN1uvDXFM0",
        "colab_type": "code",
        "colab": {}
      },
      "source": [
        "import cv2\n",
        "from six.moves import urllib\n",
        "import numpy as np\n",
        "import os\n",
        "from tqdm import tqdm, tqdm_notebook"
      ],
      "execution_count": 0,
      "outputs": []
    },
    {
      "cell_type": "markdown",
      "metadata": {
        "id": "5Rw-mXiPXFM2",
        "colab_type": "text"
      },
      "source": [
        "Below are a function that can be used to collect a subset data from imagenet"
      ]
    },
    {
      "cell_type": "code",
      "metadata": {
        "id": "0hcID-EqXFM3",
        "colab_type": "code",
        "colab": {}
      },
      "source": [
        "def store_raw_images(class_name, link, numberofpic):\n",
        "    image_link = link\n",
        "    image_urls = urllib.request.urlopen(image_link).read().decode()\n",
        "\n",
        "    if not os.path.exists(f'./_dataset/{class_name}'):\n",
        "        os.makedirs(f'./_dataset/{class_name}')\n",
        "\n",
        "    pic_num = 1\n",
        "\n",
        "    while(pic_num < numberofpic):\n",
        "        pbar = tqdm_notebook(image_urls.split('\\n'))\n",
        "        for i in pbar:\n",
        "            try:\n",
        "                urllib.request.urlretrieve(i, f'./_dataset/{class_name}/{str(pic_num)}.jpg')\n",
        "                img = cv2.imread(f'./_dataset/{class_name}/{str(pic_num)}.jpg')\n",
        "                resized_image = cv2.resize(img, (300, 300))\n",
        "                cv2.imwrite(f'./_dataset/{class_name}/{str(pic_num)}.jpg', resized_image)\n",
        "                pic_num += 1\n",
        "\n",
        "            except Exception as e:\n",
        "                # print(str(e))\n",
        "                pass"
      ],
      "execution_count": 0,
      "outputs": []
    },
    {
      "cell_type": "markdown",
      "metadata": {
        "id": "y734_dvRXFM4",
        "colab_type": "text"
      },
      "source": [
        "# Download Images"
      ]
    },
    {
      "cell_type": "code",
      "metadata": {
        "id": "jnus-8T6XFM5",
        "colab_type": "code",
        "colab": {}
      },
      "source": [
        "dicts = {'on_hardhat': 'http://www.image-net.org/api/text/imagenet.synset.geturls?wnid=n03492922',\n",
        "        'off_hardhat': 'http://image-net.org/api/text/imagenet.synset.geturls?wnid=n07942152'}\n",
        "\n",
        "amount2download_pos = 1500\n",
        "amount2download_neg = 500"
      ],
      "execution_count": 0,
      "outputs": []
    },
    {
      "cell_type": "code",
      "metadata": {
        "id": "pP7KroulXFM7",
        "colab_type": "code",
        "colab": {}
      },
      "source": [
        "for key, value in dicts.items():\n",
        "    if 'on' in key:\n",
        "        store_raw_images(key, value, numberofpic=amount2download_pos)\n",
        "    elif 'off' in key:\n",
        "        store_raw_images(key, value, numberofpic=amount2download_neg)"
      ],
      "execution_count": 0,
      "outputs": []
    },
    {
      "cell_type": "markdown",
      "metadata": {
        "id": "eNWESMo3XFM8",
        "colab_type": "text"
      },
      "source": [
        "# Verifying Images"
      ]
    },
    {
      "cell_type": "code",
      "metadata": {
        "id": "Q0BaGJ4fXFM9",
        "colab_type": "code",
        "colab": {}
      },
      "source": [
        ""
      ],
      "execution_count": 0,
      "outputs": []
    }
  ]
}